{
 "cells": [
  {
   "cell_type": "code",
   "execution_count": 54,
   "metadata": {},
   "outputs": [],
   "source": [
    "import requests\n",
    "import json\n",
    "import pandas as pd"
   ]
  },
  {
   "cell_type": "code",
   "execution_count": 55,
   "metadata": {},
   "outputs": [
    {
     "name": "stdout",
     "output_type": "stream",
     "text": [
      "1\n",
      "2\n",
      "3\n",
      "4\n",
      "5\n",
      "6\n",
      "7\n",
      "8\n",
      "9\n",
      "10\n",
      "11\n",
      "12\n",
      "13\n",
      "14\n",
      "15\n",
      "16\n",
      "17\n",
      "18\n",
      "19\n",
      "20\n",
      "21\n",
      "22\n",
      "23\n",
      "24\n",
      "25\n",
      "26\n",
      "27\n",
      "28\n",
      "29\n",
      "30\n",
      "31\n",
      "32\n",
      "33\n",
      "34\n",
      "35\n",
      "36\n",
      "37\n",
      "38\n",
      "39\n",
      "40\n",
      "41\n",
      "42\n"
     ]
    }
   ],
   "source": [
    "Consulta= 0\n",
    "\n",
    "baseurl = \"https://rickandmortyapi.com/api/\"\n",
    "endpoint = 'character'\n",
    "\n",
    "def main_request(baseurl, endpoint,x):\n",
    "    r = requests.get(baseurl + endpoint+f'?page={x}')\n",
    "    return r.json()\n",
    "\n",
    "def get_pages(response):\n",
    "   return response['info']['pages']\n",
    "\n",
    "def parse_json(response):\n",
    "    charlist = []\n",
    "    for item in response ['results']:\n",
    "        char= {\n",
    "        'id': item['id'],\n",
    "        'name': item['name'],\n",
    "        'no_ep': len(item['episode']),\n",
    "        }\n",
    "        charlist.append(char)\n",
    "    return charlist\n",
    "mainlist=[]\n",
    "data = main_request(baseurl,endpoint,1)\n",
    "for x in range(1,get_pages(data)+1):\n",
    "    print(x)\n",
    "    mainlist.extend(parse_json(main_request(baseurl,endpoint,x)))\n",
    "\n",
    "df=pd.DataFrame(mainlist)\n",
    "df.to_csv('charlist.csv', index=False)\n",
    "\n",
    "        \n",
    "    "
   ]
  },
  {
   "cell_type": "code",
   "execution_count": null,
   "metadata": {},
   "outputs": [],
   "source": []
  }
 ],
 "metadata": {
  "interpreter": {
   "hash": "b3ba2566441a7c06988d0923437866b63cedc61552a5af99d1f4fb67d367b25f"
  },
  "kernelspec": {
   "display_name": "Python 3.8.12 ('base')",
   "language": "python",
   "name": "python3"
  },
  "language_info": {
   "codemirror_mode": {
    "name": "ipython",
    "version": 3
   },
   "file_extension": ".py",
   "mimetype": "text/x-python",
   "name": "python",
   "nbconvert_exporter": "python",
   "pygments_lexer": "ipython3",
   "version": "3.8.12"
  },
  "orig_nbformat": 4
 },
 "nbformat": 4,
 "nbformat_minor": 2
}
