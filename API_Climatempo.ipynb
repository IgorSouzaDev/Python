{
 "cells": [
  {
   "cell_type": "code",
   "execution_count": null,
   "metadata": {},
   "outputs": [],
   "source": [
    "import pandas as pd\n",
    "import requests\n",
    "import json"
   ]
  },
  {
   "cell_type": "code",
   "execution_count": null,
   "metadata": {},
   "outputs": [],
   "source": [
    "iTOKEN = \"a1d894340c25a788ae84421affe0c633\"\n",
    "#\"http://apiadvisor.climatempo.com.br/api/v1/locale/city?name=São Paulo&state=SP&token=your-app-token\"\n",
    "iTIPODECONSULTA = 1"
   ]
  },
  {
   "cell_type": "code",
   "execution_count": null,
   "metadata": {},
   "outputs": [],
   "source": [
    "#Request da Primeira Requisição\n",
    "if iTIPODECONSULTA == 1:\n",
    "    iCITY=input(\"Informe o nome da cidade\")\n",
    "    iURL= \"http://apiadvisor.climatempo.com.br/api/v1/locale/city?name=\"+ str( iCITY) +\"&token=\"+str(iTOKEN)\n",
    "    iRESPONSE = requests.request(\"GET\",iURL)\n",
    "    iRETORNO_REO = json.loads(iRESPONSE.text)\n",
    "#Ler todas as linhas da API  apos ter inserido a cidade\n",
    "    for iCHAVE in iRETORNO_REO:\n",
    "        iID = iCHAVE['id']\n",
    "        iNAME = iCHAVE['name']\n",
    "        iSTATE= iCHAVE['state']\n",
    "        iCOUNTRY = iCHAVE['country']\n",
    "        print(\"ID:\"+ str(iID)+\" | \"+ \"NAME:\"+ str(iNAME)+\" | \"+ \"STATE:\" + str(iSTATE)+\" | \"+  \"COUNTRY:\"+ str(iCOUNTRY))\n",
    "#Requisição so funciona uma vez por dia após executar uma vez da erro 400 pois tem que pagar para ter acesso.\n",
    "    iNEWCITY = input(\"Informe o ID da cidade: \")\n",
    "    iURL=\"http://apiadvisor.climatempo.com.br/api-manager/user-token/\"+ str(iTOKEN) + \"/locales\"\n",
    "    payload = \"localeId[]=\" + str(iNEWCITY)\n",
    "    headers = {'Content-Type':'application/x-www-form-urlencoded'}\n",
    "    iRESPONSE = requests.request(\"PUT\",iURL, headers=headers, data=payload)\n",
    "    print(iRESPONSE)"
   ]
  },
  {
   "cell_type": "code",
   "execution_count": null,
   "metadata": {},
   "outputs": [],
   "source": [
    "## id PADRÃO PARA A CONSULTA DE 7564\n",
    "if iTIPODECONSULTA == 2:\n",
    "   iURL= \"http://apiadvisor.climatempo.com.br/api/v1/weather/locale/7564/current?token=\"+str(iTOKEN)\n",
    "   iRESPONSE = requests.request(\"GET\",iURL)\n",
    "   iRETORNO_REO = json.loads(iRESPONSE.text)\n",
    "\n",
    " print(iRETORNO_REO)"
   ]
  }
 ],
 "metadata": {
  "interpreter": {
   "hash": "fa81e25f5caa17361740ecfa53d816983e001dff258d28b1e3bea577102c640f"
  },
  "kernelspec": {
   "display_name": "Python 3.9.5 64-bit",
   "language": "python",
   "name": "python3"
  },
  "language_info": {
   "codemirror_mode": {
    "name": "ipython",
    "version": 3
   },
   "file_extension": ".py",
   "mimetype": "text/x-python",
   "name": "python",
   "nbconvert_exporter": "python",
   "pygments_lexer": "ipython3",
   "version": "3.8.12"
  },
  "orig_nbformat": 4
 },
 "nbformat": 4,
 "nbformat_minor": 2
}
